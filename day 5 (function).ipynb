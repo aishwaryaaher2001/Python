{
 "cells": [
  {
   "cell_type": "markdown",
   "id": "ae77177d",
   "metadata": {},
   "source": [
    "## Python Function \n",
    "- function is block of code which only runs when it is called.\n",
    "- we can pass data into function known as parameter.\n",
    "- In python a function is define using \"def\" keyword"
   ]
  },
  {
   "cell_type": "code",
   "execution_count": 2,
   "id": "7d642918",
   "metadata": {},
   "outputs": [
    {
     "name": "stdout",
     "output_type": "stream",
     "text": [
      "Welcome to function\n"
     ]
    }
   ],
   "source": [
    "def fun():\n",
    "    print(\"Welcome to function\")\n",
    "\n",
    "fun()"
   ]
  },
  {
   "cell_type": "markdown",
   "id": "e0b0013e",
   "metadata": {},
   "source": [
    "## Argments\n",
    "- we can pass information into a function as arguments.\n",
    "- Arguments are specified after function name inside paranthesis.\n",
    "- we can give as many arguments as we want, just seperate them by comma.\n",
    "- if we pass any argument while defining function then we should pass value of that argument when we will called function.\n"
   ]
  },
  {
   "cell_type": "code",
   "execution_count": 5,
   "id": "b9cdc9b9",
   "metadata": {},
   "outputs": [
    {
     "name": "stdout",
     "output_type": "stream",
     "text": [
      "python Welcome to function\n"
     ]
    }
   ],
   "source": [
    "def fun(fun_name):\n",
    "    print(fun_name + \" Welcome to function\")\n",
    "\n",
    "fun(\"python\")"
   ]
  },
  {
   "cell_type": "markdown",
   "id": "0c7131e1",
   "metadata": {},
   "source": [
    "## Parameters and Arguments\n",
    "- A parameter is a variable listed inside paranthesis in the function definition.\n",
    "- A argument is value that we pass to the function at time of calling function."
   ]
  },
  {
   "cell_type": "code",
   "execution_count": 9,
   "id": "96f3e34e",
   "metadata": {},
   "outputs": [
    {
     "name": "stdout",
     "output_type": "stream",
     "text": [
      "apple\n",
      "grapes\n",
      "berry\n",
      "banana\n"
     ]
    }
   ],
   "source": [
    "def food(fruit):\n",
    "    for x in fruits:\n",
    "        print(x)\n",
    "fruits = ['apple','grapes','berry','banana']\n",
    "food(fruit)"
   ]
  },
  {
   "cell_type": "code",
   "execution_count": 14,
   "id": "113279bb",
   "metadata": {},
   "outputs": [
    {
     "name": "stdout",
     "output_type": "stream",
     "text": [
      "0\n",
      "2\n",
      "4\n",
      "6\n",
      "8\n",
      "10\n",
      "12\n",
      "14\n",
      "16\n",
      "18\n",
      "20\n"
     ]
    }
   ],
   "source": [
    "def table(x):\n",
    "    for y in range(0,11):\n",
    "        print(x * y)\n",
    "table(2)"
   ]
  },
  {
   "cell_type": "markdown",
   "id": "fa53f9a2",
   "metadata": {},
   "source": [
    "### write a python function to find maximum of three number"
   ]
  },
  {
   "cell_type": "code",
   "execution_count": 21,
   "id": "0a6faa9e",
   "metadata": {},
   "outputs": [
    {
     "name": "stdout",
     "output_type": "stream",
     "text": [
      "90 is maximum\n"
     ]
    }
   ],
   "source": [
    "def max(x,y,z):\n",
    "    if x > y:\n",
    "        if x > z:\n",
    "            print(f\"{x} is maximum\")\n",
    "    else:\n",
    "        if  y > z:\n",
    "            print(f\"{y} is maximum\")\n",
    "        else:\n",
    "            print(f\"{z} is maximum\")\n",
    "max(10,59,90)\n",
    "                        \n",
    "                      \n",
    "                \n",
    "            "
   ]
  },
  {
   "cell_type": "markdown",
   "id": "509c1bd6",
   "metadata": {},
   "source": [
    "### Write a Python function to sum all the numbers in a list.                  "
   ]
  },
  {
   "cell_type": "code",
   "execution_count": 43,
   "id": "88dcd1ed",
   "metadata": {},
   "outputs": [
    {
     "data": {
      "text/plain": [
       "15"
      ]
     },
     "execution_count": 43,
     "metadata": {},
     "output_type": "execute_result"
    }
   ],
   "source": [
    "def sum(lst):\n",
    "    lst = [1,2,3,4,5]\n",
    "    sum = 0\n",
    "    for i in lst:\n",
    "        sum = sum + i\n",
    "    return sum\n",
    "sum(lst)"
   ]
  },
  {
   "cell_type": "markdown",
   "id": "afd1fd92",
   "metadata": {},
   "source": [
    "### write a python function to multiplication of all the numbers in list"
   ]
  },
  {
   "cell_type": "code",
   "execution_count": 48,
   "id": "c83f2c88",
   "metadata": {},
   "outputs": [
    {
     "data": {
      "text/plain": [
       "350"
      ]
     },
     "execution_count": 48,
     "metadata": {},
     "output_type": "execute_result"
    }
   ],
   "source": [
    "def multiply(lst):\n",
    "    multiplication = 1\n",
    "    lst = [2,5,7,5]\n",
    "    for i in lst:\n",
    "        multiplication = multiplication * i\n",
    "    return multiplication\n",
    "multiply(lst)\n",
    "        "
   ]
  },
  {
   "cell_type": "markdown",
   "id": "ed85d3f6",
   "metadata": {},
   "source": [
    "### write a python function to calculate the factorial of number"
   ]
  },
  {
   "cell_type": "code",
   "execution_count": 58,
   "id": "1f61aec8",
   "metadata": {},
   "outputs": [
    {
     "data": {
      "text/plain": [
       "120"
      ]
     },
     "execution_count": 58,
     "metadata": {},
     "output_type": "execute_result"
    }
   ],
   "source": [
    "def factorial(x):\n",
    "    factorial = 1\n",
    "    y = 1\n",
    "    while y <= x:\n",
    "        factorial = factorial * y\n",
    "        y = y+1\n",
    "    return factorial\n",
    "factorial(5)\n",
    "        \n",
    "    "
   ]
  },
  {
   "cell_type": "code",
   "execution_count": null,
   "id": "1fc60bba",
   "metadata": {},
   "outputs": [],
   "source": []
  }
 ],
 "metadata": {
  "kernelspec": {
   "display_name": "Python 3 (ipykernel)",
   "language": "python",
   "name": "python3"
  },
  "language_info": {
   "codemirror_mode": {
    "name": "ipython",
    "version": 3
   },
   "file_extension": ".py",
   "mimetype": "text/x-python",
   "name": "python",
   "nbconvert_exporter": "python",
   "pygments_lexer": "ipython3",
   "version": "3.11.5"
  }
 },
 "nbformat": 4,
 "nbformat_minor": 5
}

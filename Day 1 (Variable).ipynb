{
 "cells": [
  {
   "cell_type": "markdown",
   "id": "f49a4e28",
   "metadata": {},
   "source": [
    "# Basic Python "
   ]
  },
  {
   "cell_type": "markdown",
   "id": "bde9ee70",
   "metadata": {},
   "source": [
    "## Q. What is python?\n",
    "1. pyhton is popular programming language.\n",
    "   it is used for\n",
    "   1. web development\n",
    "   2. software developement\n",
    "   3. it allows to handle big data\n",
    "   4. in python we can do complex mathematics\n",
    "   5. system scripting\n",
    "2. python can be connect to database system.\n",
    "3. python works on different platforms.\n",
    "   1. Windows\n",
    "   2. Mac\n",
    "   3. Linux\n",
    "   4. Raspberry Pi\n",
    "4. python has simple syntax similar to English Language.\n",
    "5. python is case sensitive.\n"
   ]
  },
  {
   "cell_type": "markdown",
   "id": "f55850e8",
   "metadata": {},
   "source": [
    "# Variables\n",
    "1. variables are work as containers for storing data values.\n",
    "2. variable names only contains alpha -numeric characters and underscore(A-z, 0-9, _)\n",
    "3. "
   ]
  },
  {
   "cell_type": "code",
   "execution_count": 5,
   "id": "c28182a9",
   "metadata": {},
   "outputs": [],
   "source": [
    "x = 5"
   ]
  },
  {
   "cell_type": "code",
   "execution_count": 20,
   "id": "c53e50d0",
   "metadata": {},
   "outputs": [],
   "source": [
    "# we can string store in variable\n",
    "x = \"Aishwarya\""
   ]
  },
  {
   "cell_type": "markdown",
   "id": "f2c1d33d",
   "metadata": {},
   "source": [
    "## Output Variable\n",
    "- function 'print()' is used as output variable"
   ]
  },
  {
   "cell_type": "code",
   "execution_count": 7,
   "id": "57f5c5c9",
   "metadata": {},
   "outputs": [
    {
     "name": "stdout",
     "output_type": "stream",
     "text": [
      "Python is Language\n"
     ]
    }
   ],
   "source": [
    "x = \"Python is Language\"\n",
    "print(x)"
   ]
  },
  {
   "cell_type": "code",
   "execution_count": 10,
   "id": "6fb981cc",
   "metadata": {},
   "outputs": [
    {
     "name": "stdout",
     "output_type": "stream",
     "text": [
      "Python is Language\n",
      "Python is Language\n"
     ]
    }
   ],
   "source": [
    "# print() can gives output of multiple variable in single print, only seperate this variales by ',' or '+'.\n",
    "\n",
    "x = \"Python\"\n",
    "y = \"is\"\n",
    "z = \"Language\"\n",
    "print(x,y,z)\n",
    "print(x +' '+ y +' '+ z) "
   ]
  },
  {
   "cell_type": "markdown",
   "id": "f94dcd4d",
   "metadata": {},
   "source": [
    "## Global variable\n",
    "- variable which are defined outside functions are called global variable.\n",
    "- we can use global variable inside as well as outside the function."
   ]
  },
  {
   "cell_type": "code",
   "execution_count": 15,
   "id": "c8f349ff",
   "metadata": {},
   "outputs": [
    {
     "name": "stdout",
     "output_type": "stream",
     "text": [
      "python is Awesome\n"
     ]
    }
   ],
   "source": [
    "# create variable outside function and use inside function.\n",
    "x = \"Awesome\"\n",
    "def python():\n",
    "    print(\"python is \"+x)\n",
    "python()"
   ]
  },
  {
   "cell_type": "markdown",
   "id": "ee45d5ec",
   "metadata": {},
   "source": [
    "## Local variable\n",
    "- variable which are defined inside function are called local variable.\n",
    "- can only be used inside function."
   ]
  },
  {
   "cell_type": "code",
   "execution_count": 18,
   "id": "4ba01908",
   "metadata": {},
   "outputs": [
    {
     "name": "stdout",
     "output_type": "stream",
     "text": [
      "Python is Easy\n",
      "python is Aewsome\n"
     ]
    }
   ],
   "source": [
    "# create variable inside function and try to use inside and outside function\n",
    "\n",
    "x = \"Aewsome\"\n",
    "def python():\n",
    "    x = \"Easy\"\n",
    "    print(\"Python is \" + x)\n",
    "python()\n",
    "\n",
    "print(\"python is \" + x)"
   ]
  },
  {
   "cell_type": "code",
   "execution_count": 19,
   "id": "dfa9743f",
   "metadata": {},
   "outputs": [
    {
     "name": "stdout",
     "output_type": "stream",
     "text": [
      "python is Awesome\n",
      "Book is Awesome\n"
     ]
    }
   ],
   "source": [
    "# to create global variable inside function just use 'global' keyword\n",
    "\n",
    "def python():\n",
    "    global x\n",
    "    x = \"Awesome\"\n",
    "    print(\"python is \" + x)\n",
    "python()\n",
    "\n",
    "print(\"Book is \" + x)"
   ]
  },
  {
   "cell_type": "code",
   "execution_count": null,
   "id": "c419f639",
   "metadata": {},
   "outputs": [],
   "source": []
  }
 ],
 "metadata": {
  "kernelspec": {
   "display_name": "Python 3 (ipykernel)",
   "language": "python",
   "name": "python3"
  },
  "language_info": {
   "codemirror_mode": {
    "name": "ipython",
    "version": 3
   },
   "file_extension": ".py",
   "mimetype": "text/x-python",
   "name": "python",
   "nbconvert_exporter": "python",
   "pygments_lexer": "ipython3",
   "version": "3.11.5"
  }
 },
 "nbformat": 4,
 "nbformat_minor": 5
}

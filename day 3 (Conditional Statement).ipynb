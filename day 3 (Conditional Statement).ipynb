{
 "cells": [
  {
   "cell_type": "markdown",
   "id": "b8bfe615",
   "metadata": {},
   "source": [
    "## Condition and IF statement\n",
    "- Python supports some logical conditions\n",
    "  - Equals: a == b\n",
    "  - not equal: a != b\n",
    "  - less than: a < b\n",
    "  - less than or equal to: a <= b\n",
    "  - greater than: a > b\n",
    "  - greater than or equal: a >= b\n",
    "- these conditions can be used in several ways, most commonly in 'IF statement' and 'Loops'."
   ]
  },
  {
   "cell_type": "markdown",
   "id": "3e500f71",
   "metadata": {},
   "source": [
    "## If statement\n",
    "1. if\n",
    "2. elif\n",
    "3. else\n",
    "- when IF statement is true code will stop at IF statement\n",
    "- when IF statement is false it will go to check elif statement and so on."
   ]
  },
  {
   "cell_type": "code",
   "execution_count": 1,
   "id": "67e95e2b",
   "metadata": {},
   "outputs": [
    {
     "name": "stdout",
     "output_type": "stream",
     "text": [
      "speaker is narendra modi\n"
     ]
    }
   ],
   "source": [
    "# check whether speaker is narendra modi or not\n",
    "\n",
    "speaker = \"narendra modi\"\n",
    "if speaker == \"narendra modi\":\n",
    "    print('speaker is narendra modi')"
   ]
  },
  {
   "cell_type": "code",
   "execution_count": 2,
   "id": "e371d152",
   "metadata": {},
   "outputs": [],
   "source": [
    "speaker = \"Eknath shinde\"\n",
    "if speaker == \"narendra modi\":\n",
    "    print(\"speaker is narendra modi\")"
   ]
  },
  {
   "cell_type": "code",
   "execution_count": 3,
   "id": "d6affacd",
   "metadata": {},
   "outputs": [
    {
     "name": "stdout",
     "output_type": "stream",
     "text": [
      "enter the age: 9\n",
      "Person is not eligible for voting\n"
     ]
    }
   ],
   "source": [
    "# write a program to check whether the person is eligible for voting or not.\n",
    "\n",
    "age = int(input('enter the age: '))\n",
    "\n",
    "if age < 18:\n",
    "    print(\"Person is not eligible for voting\")\n",
    "else:\n",
    "    print(\"Person is eligible for voting\")"
   ]
  },
  {
   "cell_type": "code",
   "execution_count": 5,
   "id": "efb979ab",
   "metadata": {},
   "outputs": [
    {
     "name": "stdout",
     "output_type": "stream",
     "text": [
      "enter the number: 8\n",
      "number is even\n"
     ]
    }
   ],
   "source": [
    "# Write a program to check whether the number is even or not\n",
    "\n",
    "num = int(input('enter the number: '))\n",
    "\n",
    "if num % 2 == 0:\n",
    "    print('number is even')\n",
    "else:\n",
    "    print('number is odd')"
   ]
  },
  {
   "cell_type": "code",
   "execution_count": 10,
   "id": "c7eca883",
   "metadata": {},
   "outputs": [
    {
     "name": "stdout",
     "output_type": "stream",
     "text": [
      "enter the first number:7\n",
      "enter the operator*\n",
      "enter the second number:8\n",
      "56\n"
     ]
    }
   ],
   "source": [
    "# create basic calculator which can add, substract, multiply, and divide\n",
    "\n",
    "num1 = int(input('enter the first number:'))\n",
    "operator = input('enter the operator')\n",
    "num2 = int(input('enter the second number:'))\n",
    "\n",
    "if operator == '+':\n",
    "    print(num1 + num2)\n",
    "elif operator == '-':\n",
    "    print(num1 - num2)\n",
    "elif operator == '*':\n",
    "    print(num1 * num2)\n",
    "else:\n",
    "    print(num1 / num2)"
   ]
  },
  {
   "cell_type": "code",
   "execution_count": 12,
   "id": "28bb1162",
   "metadata": {},
   "outputs": [
    {
     "name": "stdout",
     "output_type": "stream",
     "text": [
      "enter the number:10\n",
      "Hello\n"
     ]
    }
   ],
   "source": [
    "# write a program to display 'Hello' if number entered is multiple of 5 otherwise print 'Bye'\n",
    "\n",
    "num = int(input('enter the number:'))\n",
    "\n",
    "if num % 5 == 0:\n",
    "    print(\"Hello\")\n",
    "else:\n",
    "    print(\"Bye\")"
   ]
  },
  {
   "cell_type": "markdown",
   "id": "a0631fa0",
   "metadata": {},
   "source": [
    "#### write a program to calculate electricity bill (accept the number of units from user) according to the following criteria\n",
    "- unit               -              price\n",
    "- first 100 units    -             no charge\n",
    "- next 100 units     -             Rs 5 per unit\n",
    "- after 200 units    -             Rs 10 per unit"
   ]
  },
  {
   "cell_type": "code",
   "execution_count": 15,
   "id": "e9a19117",
   "metadata": {},
   "outputs": [
    {
     "name": "stdout",
     "output_type": "stream",
     "text": [
      "enter the number of unit:350\n",
      "Total bill amount is 2000\n"
     ]
    }
   ],
   "source": [
    "unit = int(input('enter the number of unit:'))\n",
    "if unit <= 100:\n",
    "    print('Total bill amount is Zero')\n",
    "elif unit <= 200 and unit > 100:\n",
    "    print(f\"Total bill amount is {(unit - 100) * 5}\")\n",
    "else:\n",
    "    print(f\"Total bill amount is {500 + (unit - 200) * 10}\")\n"
   ]
  },
  {
   "cell_type": "markdown",
   "id": "ac59e2f8",
   "metadata": {},
   "source": [
    "### Write a program to swap a two number"
   ]
  },
  {
   "cell_type": "code",
   "execution_count": 16,
   "id": "0c9c8d5a",
   "metadata": {},
   "outputs": [
    {
     "name": "stdout",
     "output_type": "stream",
     "text": [
      "enter the number:5\n",
      "enter the number:7\n",
      "the value of x after swapping: 7\n",
      "the value of y after swapping: 5\n"
     ]
    }
   ],
   "source": [
    "x = int(input('enter the number:'))\n",
    "y = int(input('enter the number:'))\n",
    "\n",
    "temp = x\n",
    "x = y\n",
    "y = temp\n",
    "\n",
    "print(f'the value of x after swapping: {x}')\n",
    "print(f\"the value of y after swapping: {y}\")"
   ]
  },
  {
   "cell_type": "markdown",
   "id": "7e3f7cc5",
   "metadata": {},
   "source": [
    "# Operators\n",
    "- AND\n",
    "- OR\n",
    "- NOT"
   ]
  },
  {
   "cell_type": "code",
   "execution_count": 19,
   "id": "b1b1f2ae",
   "metadata": {},
   "outputs": [
    {
     "name": "stdout",
     "output_type": "stream",
     "text": [
      "enter the number:90\n",
      "enter the number:78\n",
      "enter the number:56\n",
      "both conditions are true\n"
     ]
    }
   ],
   "source": [
    "# AND operator is true if both conditions are true\n",
    "\n",
    "a = int(input('enter the number:'))\n",
    "b = int(input('enter the number:'))\n",
    "c = int(input('enter the number:'))\n",
    "if a > b and b > c:\n",
    "    print('both conditions are true')"
   ]
  },
  {
   "cell_type": "code",
   "execution_count": 20,
   "id": "63130d75",
   "metadata": {},
   "outputs": [
    {
     "name": "stdout",
     "output_type": "stream",
     "text": [
      "enter the number: 4\n",
      "enter the number: 7\n",
      "enter the number: 6\n",
      "At least one condition is true\n"
     ]
    }
   ],
   "source": [
    "# OR operator is true if at least one condition is true\n",
    "\n",
    "a = int(input('enter the number: '))\n",
    "b = int(input('enter the number: '))\n",
    "c = int(input('enter the number: '))\n",
    "\n",
    "if a > b or b > c:\n",
    "    print('At least one condition is true')"
   ]
  },
  {
   "cell_type": "code",
   "execution_count": 21,
   "id": "630c0700",
   "metadata": {},
   "outputs": [
    {
     "name": "stdout",
     "output_type": "stream",
     "text": [
      "a is NOT greater than b\n"
     ]
    }
   ],
   "source": [
    "# NOT operator is used to reverse the result of the conditional statement\n",
    "\n",
    "a = 50\n",
    "b = 100\n",
    "if not a > b:\n",
    "  print(\"a is NOT greater than b\")"
   ]
  },
  {
   "cell_type": "markdown",
   "id": "aa4ea369",
   "metadata": {},
   "source": [
    "## Nested If \n",
    "- IF statement can also be check other inside IF statement\n",
    "- inner IF condition will be checked only when outer IF condition is true"
   ]
  },
  {
   "cell_type": "markdown",
   "id": "b35e2b91",
   "metadata": {},
   "source": [
    "### write a program to check the entered number is greater than 50 or not if yes check is it multiple of 5 if no check is it perfect square or not\n"
   ]
  },
  {
   "cell_type": "code",
   "execution_count": 27,
   "id": "6f99858a",
   "metadata": {},
   "outputs": [
    {
     "name": "stdout",
     "output_type": "stream",
     "text": [
      "enter the number: 70\n",
      "number 70 is greater than 50\n",
      "number 70 is multiple of 5\n"
     ]
    }
   ],
   "source": [
    "num = int(input('enter the number: '))\n",
    "\n",
    "if num > 50:\n",
    "    print(f'number {num} is greater than 50')\n",
    "    if num % 5 == 0:\n",
    "        print(f'number {num} is multiple of 5')\n",
    "    else:\n",
    "        print(f'number {num} is not multiple of 5')\n",
    "else:\n",
    "    print(f'number {num} is smaller than 50')\n",
    "    for i in range(0,10):\n",
    "        if num == i*i:\n",
    "            print(f\"number {num} is perfect square\")\n",
    "        else:\n",
    "            print(f\"number {num} is not perfect square\")"
   ]
  },
  {
   "cell_type": "code",
   "execution_count": null,
   "id": "7bdbabbb",
   "metadata": {},
   "outputs": [],
   "source": []
  }
 ],
 "metadata": {
  "kernelspec": {
   "display_name": "Python 3 (ipykernel)",
   "language": "python",
   "name": "python3"
  },
  "language_info": {
   "codemirror_mode": {
    "name": "ipython",
    "version": 3
   },
   "file_extension": ".py",
   "mimetype": "text/x-python",
   "name": "python",
   "nbconvert_exporter": "python",
   "pygments_lexer": "ipython3",
   "version": "3.11.5"
  }
 },
 "nbformat": 4,
 "nbformat_minor": 5
}

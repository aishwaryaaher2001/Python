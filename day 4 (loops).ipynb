{
 "cells": [
  {
   "cell_type": "markdown",
   "id": "78a7cb3d",
   "metadata": {},
   "source": [
    "# Loops\n",
    "- repeating something over and over until a particular condition is satisfied\n",
    "- there are two loops\n",
    "  - while loop:\n",
    "    - Infinite loop\n",
    "    - use this loop when don't know how many times code will repeated.\n",
    "  - for loop:\n",
    "    - Finite loop\n",
    "    - FOR loop is used for iterating over a sequence(that either a list, tuple, dictionary, set or string)\n",
    "    - when we know how many times code will repeated."
   ]
  },
  {
   "cell_type": "markdown",
   "id": "ce33c423",
   "metadata": {},
   "source": [
    "## While loop"
   ]
  },
  {
   "cell_type": "markdown",
   "id": "9880aa1f",
   "metadata": {},
   "source": [
    "### Write a program to print first 10 even numbers"
   ]
  },
  {
   "cell_type": "code",
   "execution_count": 5,
   "id": "70f744fb",
   "metadata": {},
   "outputs": [
    {
     "name": "stdout",
     "output_type": "stream",
     "text": [
      "2 is even\n",
      "4 is even\n",
      "6 is even\n",
      "8 is even\n",
      "10 is even\n",
      "12 is even\n",
      "14 is even\n",
      "16 is even\n",
      "18 is even\n",
      "20 is even\n"
     ]
    }
   ],
   "source": [
    "num = 2\n",
    "while num <= 20:\n",
    "    print(f\"{num} is even\")\n",
    "    num = num + 2"
   ]
  },
  {
   "cell_type": "markdown",
   "id": "efe1367d",
   "metadata": {},
   "source": [
    "### write program to print first 10 natural numbers and their squares"
   ]
  },
  {
   "cell_type": "code",
   "execution_count": 8,
   "id": "fdc4780f",
   "metadata": {},
   "outputs": [
    {
     "name": "stdout",
     "output_type": "stream",
     "text": [
      "number is 1 and square of 1 is 1\n",
      "number is 2 and square of 2 is 4\n",
      "number is 3 and square of 3 is 9\n",
      "number is 4 and square of 4 is 16\n",
      "number is 5 and square of 5 is 25\n",
      "number is 6 and square of 6 is 36\n",
      "number is 7 and square of 7 is 49\n",
      "number is 8 and square of 8 is 64\n",
      "number is 9 and square of 9 is 81\n",
      "number is 10 and square of 10 is 100\n"
     ]
    }
   ],
   "source": [
    "num = 1\n",
    "while num <= 10:\n",
    "    sqr = num * num\n",
    "    print(f\"number is {num} and square of {num} is {sqr}\")\n",
    "    num = num + 1"
   ]
  },
  {
   "cell_type": "markdown",
   "id": "d6d1a9c0",
   "metadata": {},
   "source": [
    "### write while loop statement to print series 105, 98,91,....,7"
   ]
  },
  {
   "cell_type": "code",
   "execution_count": 10,
   "id": "76de0799",
   "metadata": {},
   "outputs": [
    {
     "name": "stdout",
     "output_type": "stream",
     "text": [
      "105\n",
      "98\n",
      "91\n",
      "84\n",
      "77\n",
      "70\n",
      "63\n",
      "56\n",
      "49\n",
      "42\n",
      "35\n",
      "28\n",
      "21\n",
      "14\n",
      "7\n"
     ]
    }
   ],
   "source": [
    "num = 105\n",
    "while num >= 7:\n",
    "    print(num)\n",
    "    num = num - 7\n",
    "    "
   ]
  },
  {
   "cell_type": "markdown",
   "id": "a00c47f2",
   "metadata": {},
   "source": [
    "### write program to print first 10 natural number in reverse order using while loop"
   ]
  },
  {
   "cell_type": "code",
   "execution_count": 11,
   "id": "72484546",
   "metadata": {},
   "outputs": [
    {
     "name": "stdout",
     "output_type": "stream",
     "text": [
      "10\n",
      "9\n",
      "8\n",
      "7\n",
      "6\n",
      "5\n",
      "4\n",
      "3\n",
      "2\n",
      "1\n"
     ]
    }
   ],
   "source": [
    "num = 10\n",
    "while num >= 1:\n",
    "    print(num)\n",
    "    num -= 1"
   ]
  },
  {
   "cell_type": "markdown",
   "id": "e9735f9c",
   "metadata": {},
   "source": [
    "### write program to check whether the number is prime or not"
   ]
  },
  {
   "cell_type": "code",
   "execution_count": 14,
   "id": "b85f9e91",
   "metadata": {},
   "outputs": [
    {
     "name": "stdout",
     "output_type": "stream",
     "text": [
      "enter the number: 8\n",
      "8 is not prime\n"
     ]
    }
   ],
   "source": [
    "num = int(input('enter the number: '))\n",
    "k = 0\n",
    "if num == 0 or num ==1:\n",
    "    print(\"not prime number\")\n",
    "else:\n",
    "    i = 2\n",
    "    while i < num:\n",
    "        if num % i == 0:\n",
    "            k = k+1\n",
    "        i = i+1\n",
    "if k == 0:\n",
    "    print(num ,\"is prime number\")\n",
    "else:\n",
    "    print(num ,\"is not prime\")"
   ]
  },
  {
   "cell_type": "markdown",
   "id": "b88b0155",
   "metadata": {},
   "source": [
    "## break statement\n",
    "- with the break statement we can stop the loop even if the while condition is true"
   ]
  },
  {
   "cell_type": "markdown",
   "id": "f0318188",
   "metadata": {},
   "source": [
    "### Exit the loop when i = 3"
   ]
  },
  {
   "cell_type": "code",
   "execution_count": 17,
   "id": "65da4887",
   "metadata": {},
   "outputs": [
    {
     "name": "stdout",
     "output_type": "stream",
     "text": [
      "1\n",
      "2\n",
      "3\n"
     ]
    }
   ],
   "source": [
    "i = 1\n",
    "while i < 6:\n",
    "    print(i)\n",
    "    if i == 3:\n",
    "        break\n",
    "    i = i+1"
   ]
  },
  {
   "cell_type": "markdown",
   "id": "60aa277a",
   "metadata": {},
   "source": [
    "## Continue Statement\n",
    "- with the continue statement we can stop the current iteration, and continue with the next"
   ]
  },
  {
   "cell_type": "markdown",
   "id": "ff4cb50b",
   "metadata": {},
   "source": [
    "### continue to the next iteration if i = 3"
   ]
  },
  {
   "cell_type": "code",
   "execution_count": 18,
   "id": "b949e082",
   "metadata": {},
   "outputs": [
    {
     "name": "stdout",
     "output_type": "stream",
     "text": [
      "1\n",
      "2\n",
      "4\n",
      "5\n",
      "6\n"
     ]
    }
   ],
   "source": [
    "i = 0\n",
    "while i < 6:\n",
    "    i = i+1\n",
    "    if i == 3:\n",
    "        continue\n",
    "    print(i)"
   ]
  },
  {
   "cell_type": "markdown",
   "id": "0665dbdc",
   "metadata": {},
   "source": [
    "## FOR loop"
   ]
  },
  {
   "cell_type": "code",
   "execution_count": 19,
   "id": "670a1186",
   "metadata": {},
   "outputs": [
    {
     "name": "stdout",
     "output_type": "stream",
     "text": [
      "apple\n",
      "banana\n",
      "grapes\n",
      "berry\n"
     ]
    }
   ],
   "source": [
    "fruits = ['apple','banana','grapes','berry']\n",
    "for x in fruits:\n",
    "    print(x)"
   ]
  },
  {
   "cell_type": "code",
   "execution_count": 20,
   "id": "c6c74410",
   "metadata": {},
   "outputs": [
    {
     "name": "stdout",
     "output_type": "stream",
     "text": [
      "b\n",
      "a\n",
      "n\n",
      "a\n",
      "n\n",
      "a\n"
     ]
    }
   ],
   "source": [
    "for x in 'banana':\n",
    "    print(x)"
   ]
  },
  {
   "cell_type": "markdown",
   "id": "08ffe345",
   "metadata": {},
   "source": [
    "### Exit loop if fruit = 'banana'"
   ]
  },
  {
   "cell_type": "code",
   "execution_count": 22,
   "id": "28385985",
   "metadata": {},
   "outputs": [
    {
     "name": "stdout",
     "output_type": "stream",
     "text": [
      "apple\n",
      "banana\n"
     ]
    }
   ],
   "source": [
    "fruits = ['apple','banana','grapes','berry']\n",
    "for x in fruits:\n",
    "    print(x)\n",
    "    if x == 'banana':\n",
    "        break\n",
    "        "
   ]
  },
  {
   "cell_type": "markdown",
   "id": "00126129",
   "metadata": {},
   "source": [
    "### continue with next iteration if fruit = 'banana'"
   ]
  },
  {
   "cell_type": "code",
   "execution_count": 25,
   "id": "5593c54d",
   "metadata": {},
   "outputs": [
    {
     "name": "stdout",
     "output_type": "stream",
     "text": [
      "apple\n",
      "grapes\n",
      "berry\n"
     ]
    }
   ],
   "source": [
    "fruits = ['apple','banana','grapes','berry']\n",
    "for x in fruits:\n",
    "    if x == 'banana':\n",
    "        continue\n",
    "    print(x)"
   ]
  },
  {
   "cell_type": "code",
   "execution_count": 26,
   "id": "d7abafbd",
   "metadata": {},
   "outputs": [
    {
     "name": "stdout",
     "output_type": "stream",
     "text": [
      "0\n",
      "1\n",
      "2\n",
      "3\n",
      "4\n",
      "5\n"
     ]
    }
   ],
   "source": [
    "for x in range(0,6):\n",
    "    print(x)"
   ]
  },
  {
   "cell_type": "markdown",
   "id": "8ab949b4",
   "metadata": {},
   "source": [
    "## List comprehension"
   ]
  },
  {
   "cell_type": "code",
   "execution_count": 28,
   "id": "ec13979c",
   "metadata": {},
   "outputs": [
    {
     "name": "stdout",
     "output_type": "stream",
     "text": [
      "[10, 12, 14, 16, 18]\n"
     ]
    }
   ],
   "source": [
    "lst = []\n",
    "for i in range(0,10,2):\n",
    "    lst.append(i+10)\n",
    "print(lst)"
   ]
  },
  {
   "cell_type": "code",
   "execution_count": 31,
   "id": "b3d1bb71",
   "metadata": {},
   "outputs": [
    {
     "name": "stdout",
     "output_type": "stream",
     "text": [
      "[10, 12, 14, 16, 18]\n"
     ]
    }
   ],
   "source": [
    "lst = [num+10 for num in range(0,10,2)]\n",
    "print(lst)"
   ]
  },
  {
   "cell_type": "code",
   "execution_count": null,
   "id": "70cf1474",
   "metadata": {},
   "outputs": [],
   "source": []
  }
 ],
 "metadata": {
  "kernelspec": {
   "display_name": "Python 3 (ipykernel)",
   "language": "python",
   "name": "python3"
  },
  "language_info": {
   "codemirror_mode": {
    "name": "ipython",
    "version": 3
   },
   "file_extension": ".py",
   "mimetype": "text/x-python",
   "name": "python",
   "nbconvert_exporter": "python",
   "pygments_lexer": "ipython3",
   "version": "3.11.5"
  }
 },
 "nbformat": 4,
 "nbformat_minor": 5
}

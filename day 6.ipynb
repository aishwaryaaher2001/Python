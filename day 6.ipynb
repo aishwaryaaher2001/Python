{
 "cells": [
  {
   "cell_type": "markdown",
   "id": "414dd151",
   "metadata": {},
   "source": [
    "## Arrays\n",
    "- An array is used to store multiple elements in single variable.\n",
    "- all elements of array should be of same data type\n",
    "- array can manage arithmetic operation\n",
    "- Array can be mutable or immutable depending upon library used.\n"
   ]
  },
  {
   "cell_type": "markdown",
   "id": "3570f6df",
   "metadata": {},
   "source": [
    "### Built-in  array Module"
   ]
  },
  {
   "cell_type": "code",
   "execution_count": 1,
   "id": "fd1ff188",
   "metadata": {},
   "outputs": [
    {
     "data": {
      "text/plain": [
       "array('i', [1, 2, 3, 4, 5])"
      ]
     },
     "execution_count": 1,
     "metadata": {},
     "output_type": "execute_result"
    }
   ],
   "source": [
    "from array import array\n",
    "array_1 = array('i',[1,2,3,4,5])\n",
    "array_1\n",
    "\n",
    "# here 'i' indicate data type which is integer"
   ]
  },
  {
   "cell_type": "code",
   "execution_count": 2,
   "id": "77fb22aa",
   "metadata": {},
   "outputs": [
    {
     "data": {
      "text/plain": [
       "array('i', [1, 2, 3, 4, 5, 6])"
      ]
     },
     "execution_count": 2,
     "metadata": {},
     "output_type": "execute_result"
    }
   ],
   "source": [
    "# add anything at end using \"append\" function\n",
    "array_1.append(6)\n",
    "array_1"
   ]
  },
  {
   "cell_type": "code",
   "execution_count": 3,
   "id": "8c6bcde0",
   "metadata": {},
   "outputs": [
    {
     "data": {
      "text/plain": [
       "array('i', [1, 3, 4, 5, 6])"
      ]
     },
     "execution_count": 3,
     "metadata": {},
     "output_type": "execute_result"
    }
   ],
   "source": [
    "# we can delete any entry using pop()\n",
    "array_1.pop(1)\n",
    "array_1"
   ]
  },
  {
   "cell_type": "code",
   "execution_count": 4,
   "id": "b66d775d",
   "metadata": {},
   "outputs": [
    {
     "data": {
      "text/plain": [
       "array('i', [1, 3, 4, 5])"
      ]
     },
     "execution_count": 4,
     "metadata": {},
     "output_type": "execute_result"
    }
   ],
   "source": [
    "# also we can delete using \"remove\" function\n",
    "array_1.remove(6)\n",
    "array_1"
   ]
  },
  {
   "cell_type": "code",
   "execution_count": 5,
   "id": "05be10a6",
   "metadata": {},
   "outputs": [
    {
     "data": {
      "text/plain": [
       "array('i', [1, 3, 4, 5, 6])"
      ]
     },
     "execution_count": 5,
     "metadata": {},
     "output_type": "execute_result"
    }
   ],
   "source": [
    "# we can add anything using \"insert\" function at specific position.\n",
    "# insert(position, element)\n",
    "array_1.insert(4,6)\n",
    "array_1"
   ]
  },
  {
   "cell_type": "code",
   "execution_count": 6,
   "id": "888c136f",
   "metadata": {},
   "outputs": [
    {
     "data": {
      "text/plain": [
       "1"
      ]
     },
     "execution_count": 6,
     "metadata": {},
     "output_type": "execute_result"
    }
   ],
   "source": [
    "array_1[0]"
   ]
  },
  {
   "cell_type": "markdown",
   "id": "527994ac",
   "metadata": {},
   "source": [
    "### list in python can be used to represent an array \n",
    "- lists are flexible can be contain element of different data type"
   ]
  },
  {
   "cell_type": "code",
   "execution_count": 7,
   "id": "d2145aa0",
   "metadata": {},
   "outputs": [
    {
     "data": {
      "text/plain": [
       "['Aishwarya', 22, 'Saloni', 19, 'Jayashree', 17, 'Sonali', 'Ajit']"
      ]
     },
     "execution_count": 7,
     "metadata": {},
     "output_type": "execute_result"
    }
   ],
   "source": [
    "lst = [\"Aishwarya\", 22,\"Saloni\", 19,\"Jayashree\", 17,\"Sonali\",\"Ajit\"]\n",
    "lst"
   ]
  },
  {
   "cell_type": "code",
   "execution_count": 8,
   "id": "4d1827f7",
   "metadata": {},
   "outputs": [
    {
     "data": {
      "text/plain": [
       "[]"
      ]
     },
     "execution_count": 8,
     "metadata": {},
     "output_type": "execute_result"
    }
   ],
   "source": [
    "lst.clear()\n",
    "lst"
   ]
  },
  {
   "cell_type": "markdown",
   "id": "41489b16",
   "metadata": {},
   "source": [
    "### Numpy Array\n",
    "- Numpy is a powerful numerical computing library in python.\n",
    "- Numpy arrays are homogeneous and optimized for numerical computations."
   ]
  },
  {
   "cell_type": "code",
   "execution_count": 9,
   "id": "522cc23e",
   "metadata": {},
   "outputs": [
    {
     "data": {
      "text/plain": [
       "array([1, 2, 3, 4, 5])"
      ]
     },
     "execution_count": 9,
     "metadata": {},
     "output_type": "execute_result"
    }
   ],
   "source": [
    "import numpy as np\n",
    "array = np.array([1,2,3,4,5])\n",
    "array"
   ]
  },
  {
   "cell_type": "markdown",
   "id": "236d89c0",
   "metadata": {},
   "source": [
    "### Pandas Series"
   ]
  },
  {
   "cell_type": "code",
   "execution_count": 10,
   "id": "4e0507d9",
   "metadata": {},
   "outputs": [
    {
     "data": {
      "text/plain": [
       "0    1\n",
       "1    2\n",
       "2    3\n",
       "3    4\n",
       "4    5\n",
       "dtype: int64"
      ]
     },
     "execution_count": 10,
     "metadata": {},
     "output_type": "execute_result"
    }
   ],
   "source": [
    "import pandas as pd\n",
    "array = pd.Series([1,2,3,4,5])\n",
    "array"
   ]
  },
  {
   "cell_type": "markdown",
   "id": "58a8cd0e",
   "metadata": {},
   "source": [
    "## Python Classes/ Object\n",
    "- python is an object oriented programming language (i.e., allows you to define classes to create objects)\n",
    "- Object-oriented programming is a programming paradigm based on the concept of objects, which can contain data and code: data in the form of fields(often known as attributes or properties), and code in the form of procedures(often known as methods)."
   ]
  },
  {
   "cell_type": "markdown",
   "id": "d4f7ffa9",
   "metadata": {},
   "source": [
    "## Class\n",
    "- Class is blueprint for creating object\n",
    "- it defines the properties and behaviour of that objects of the class should have\n",
    "- objects are instances of class and each object has its own unique attribute and methods, based on the class it belongs to"
   ]
  },
  {
   "cell_type": "code",
   "execution_count": 11,
   "id": "6fafd471",
   "metadata": {},
   "outputs": [
    {
     "name": "stdout",
     "output_type": "stream",
     "text": [
      "<class '__main__.myclass'>\n"
     ]
    }
   ],
   "source": [
    "class myclass:\n",
    "    x = 5\n",
    "print(myclass)"
   ]
  },
  {
   "cell_type": "code",
   "execution_count": 12,
   "id": "8bbfc17c",
   "metadata": {},
   "outputs": [
    {
     "name": "stdout",
     "output_type": "stream",
     "text": [
      "Aishwarya\n"
     ]
    }
   ],
   "source": [
    "class name:\n",
    "    x = \"Aishwarya\"\n",
    "print(name.x)"
   ]
  },
  {
   "cell_type": "markdown",
   "id": "0f611003",
   "metadata": {},
   "source": [
    "## The __init__() Function\n",
    "- To understand the meaning of classes we have to understand the __ init__() function\n",
    "- All classes have function __init__(), which is executed when the class is being initiated\n",
    "- use the __init__() function to assign values to object properties"
   ]
  },
  {
   "cell_type": "code",
   "execution_count": 13,
   "id": "107f35c0",
   "metadata": {},
   "outputs": [
    {
     "name": "stdout",
     "output_type": "stream",
     "text": [
      "Aishwarya\n",
      "23\n"
     ]
    }
   ],
   "source": [
    "class person:\n",
    "    def __init__(self,name,age):\n",
    "        self.name = name\n",
    "        self.age = age\n",
    "        \n",
    "p1 = person(\"Aishwarya\",23)\n",
    "\n",
    "print(p1.name)\n",
    "print(p1.age)\n"
   ]
  },
  {
   "cell_type": "markdown",
   "id": "89708b48",
   "metadata": {},
   "source": [
    "## String function\n",
    "- the __string__() function controls what should be returned when the class object is represent as a string\n",
    "- If the __string__() function is not set, the string representation of the object is returned."
   ]
  },
  {
   "cell_type": "code",
   "execution_count": 14,
   "id": "7ee8ed2e",
   "metadata": {},
   "outputs": [
    {
     "name": "stdout",
     "output_type": "stream",
     "text": [
      "<__main__.person object at 0x0000017EC3201E10>\n"
     ]
    }
   ],
   "source": [
    "# we can not represent object in string without __string__() function\n",
    "\n",
    "class person:\n",
    "    def __init__(self,name,city):\n",
    "        self.name = name\n",
    "        self.city = city\n",
    "\n",
    "p1 = person(\"Aishwarya\",\"Nashik\")\n",
    "    \n",
    "print(p1)"
   ]
  },
  {
   "cell_type": "code",
   "execution_count": 15,
   "id": "2c04eb10",
   "metadata": {},
   "outputs": [
    {
     "name": "stdout",
     "output_type": "stream",
     "text": [
      "I am Aishwarya from Nashik\n"
     ]
    }
   ],
   "source": [
    "# string representation of object with __string__() function\n",
    "\n",
    "class person:\n",
    "    def __init__(self,name,city):\n",
    "        self.name = name\n",
    "        self.city = city\n",
    "    \n",
    "    def __str__(self):\n",
    "        return f\"I am {self.name} from {self.city}\"\n",
    "        \n",
    "p1 = person(\"Aishwarya\",\"Nashik\")\n",
    "        \n",
    "print(p1)"
   ]
  },
  {
   "cell_type": "markdown",
   "id": "f10ac563",
   "metadata": {},
   "source": [
    "## Object methods\n",
    "- objects can also contain methods.\n",
    "- Methods in objects are function that belongs to object"
   ]
  },
  {
   "cell_type": "markdown",
   "id": "6470e7b2",
   "metadata": {},
   "source": [
    "### let us create method in person class"
   ]
  },
  {
   "cell_type": "code",
   "execution_count": 16,
   "id": "55e228bb",
   "metadata": {},
   "outputs": [
    {
     "name": "stdout",
     "output_type": "stream",
     "text": [
      "My name is Aishwarya and I am 23 years old\n"
     ]
    }
   ],
   "source": [
    "class person:\n",
    "    def __init__(self,name,age):\n",
    "        self.name = name\n",
    "        self.age = age\n",
    "    \n",
    "    def fun(self):\n",
    "        print(f\"My name is {self.name} and I am {self.age} years old\")\n",
    "        \n",
    "p1 = person(\"Aishwarya\",23)\n",
    "\n",
    "p1.fun()"
   ]
  },
  {
   "cell_type": "markdown",
   "id": "f71be379",
   "metadata": {},
   "source": [
    "## The self parameter\n",
    "- the self parameter is reference to the current instance of the class.\n",
    "- self parameter is used to access the variables that belong to the class\n",
    "- It does not have to be name \"self\", we can give any name thet we want\n",
    "- but it has to be the first parameter of any function in class"
   ]
  },
  {
   "cell_type": "code",
   "execution_count": 17,
   "id": "0a13bba0",
   "metadata": {},
   "outputs": [
    {
     "name": "stdout",
     "output_type": "stream",
     "text": [
      "My name is Aishwarya and I am 23 years old\n"
     ]
    }
   ],
   "source": [
    "class person:\n",
    "    def __init__(Myself,name,age):\n",
    "        Myself.name = name\n",
    "        Myself.age = age\n",
    "    \n",
    "    def fun(ABC):\n",
    "        print(f\"My name is {ABC.name} and I am {ABC.age} years old\")\n",
    "        \n",
    "p1 = person(\"Aishwarya\",23)\n",
    "\n",
    "p1.fun()"
   ]
  },
  {
   "cell_type": "markdown",
   "id": "0a50760d",
   "metadata": {},
   "source": [
    "### Modify object properties\n",
    "- we can modify properties on object"
   ]
  },
  {
   "cell_type": "code",
   "execution_count": 18,
   "id": "597f72e4",
   "metadata": {},
   "outputs": [
    {
     "name": "stdout",
     "output_type": "stream",
     "text": [
      "My name is Aishwarya and I am 23 years old\n",
      "My name is Aishwarya and I am 24 years old\n"
     ]
    }
   ],
   "source": [
    "class person:\n",
    "    def __init__(Myself,name,age):\n",
    "        Myself.name = name\n",
    "        Myself.age = age\n",
    "    \n",
    "    def fun(ABC):\n",
    "        print(f\"My name is {ABC.name} and I am {ABC.age} years old\")\n",
    "        \n",
    "p1 = person(\"Aishwarya\",23)\n",
    "\n",
    "p1.fun()\n",
    "\n",
    "p1.age = 24\n",
    "\n",
    "p1.fun()"
   ]
  },
  {
   "cell_type": "markdown",
   "id": "fca681ab",
   "metadata": {},
   "source": [
    "### delete object properties\n",
    "- we can delete properties of object using \"del\" keyword"
   ]
  },
  {
   "cell_type": "code",
   "execution_count": 23,
   "id": "e08154e0",
   "metadata": {},
   "outputs": [
    {
     "name": "stdout",
     "output_type": "stream",
     "text": [
      "My name is Aishwarya and I'm 23 years old\n"
     ]
    },
    {
     "ename": "AttributeError",
     "evalue": "'person' object has no attribute 'age'",
     "output_type": "error",
     "traceback": [
      "\u001b[1;31m---------------------------------------------------------------------------\u001b[0m",
      "\u001b[1;31mAttributeError\u001b[0m                            Traceback (most recent call last)",
      "Cell \u001b[1;32mIn[23], line 15\u001b[0m\n\u001b[0;32m     11\u001b[0m p1\u001b[38;5;241m.\u001b[39mfun()\n\u001b[0;32m     13\u001b[0m \u001b[38;5;28;01mdel\u001b[39;00m p1\u001b[38;5;241m.\u001b[39mage\n\u001b[1;32m---> 15\u001b[0m p1\u001b[38;5;241m.\u001b[39mfun()\n",
      "Cell \u001b[1;32mIn[23], line 7\u001b[0m, in \u001b[0;36mperson.fun\u001b[1;34m(self)\u001b[0m\n\u001b[0;32m      6\u001b[0m \u001b[38;5;28;01mdef\u001b[39;00m \u001b[38;5;21mfun\u001b[39m(\u001b[38;5;28mself\u001b[39m):\n\u001b[1;32m----> 7\u001b[0m     \u001b[38;5;28mprint\u001b[39m(\u001b[38;5;124mf\u001b[39m\u001b[38;5;124m\"\u001b[39m\u001b[38;5;124mMy name is \u001b[39m\u001b[38;5;132;01m{\u001b[39;00m\u001b[38;5;28mself\u001b[39m\u001b[38;5;241m.\u001b[39mname\u001b[38;5;132;01m}\u001b[39;00m\u001b[38;5;124m and I\u001b[39m\u001b[38;5;124m'\u001b[39m\u001b[38;5;124mm \u001b[39m\u001b[38;5;132;01m{\u001b[39;00m\u001b[38;5;28mself\u001b[39m\u001b[38;5;241m.\u001b[39mage\u001b[38;5;132;01m}\u001b[39;00m\u001b[38;5;124m years old\u001b[39m\u001b[38;5;124m\"\u001b[39m)\n",
      "\u001b[1;31mAttributeError\u001b[0m: 'person' object has no attribute 'age'"
     ]
    }
   ],
   "source": [
    "class person:\n",
    "    def __init__(self,name,age):\n",
    "        self.name = name\n",
    "        self.age = age\n",
    "    \n",
    "    def fun(self):\n",
    "        print(f\"My name is {self.name} and I'm {self.age} years old\")\n",
    "        \n",
    "p1 = person(\"Aishwarya\",23)\n",
    "\n",
    "p1.fun()\n",
    "\n",
    "del p1.age\n",
    "\n",
    "p1.fun()"
   ]
  },
  {
   "cell_type": "markdown",
   "id": "b44a9684",
   "metadata": {},
   "source": [
    "## The pass statement\n",
    "- class definition could not empty, but for some reason you want to create class with no content just put \"pass\" statement to avoid error"
   ]
  },
  {
   "cell_type": "code",
   "execution_count": 26,
   "id": "15b9ea7e",
   "metadata": {},
   "outputs": [],
   "source": [
    "class person:\n",
    "    pass\n",
    "    "
   ]
  },
  {
   "cell_type": "code",
   "execution_count": null,
   "id": "4ab7f8d4",
   "metadata": {},
   "outputs": [],
   "source": []
  }
 ],
 "metadata": {
  "kernelspec": {
   "display_name": "Python 3 (ipykernel)",
   "language": "python",
   "name": "python3"
  },
  "language_info": {
   "codemirror_mode": {
    "name": "ipython",
    "version": 3
   },
   "file_extension": ".py",
   "mimetype": "text/x-python",
   "name": "python",
   "nbconvert_exporter": "python",
   "pygments_lexer": "ipython3",
   "version": "3.11.5"
  }
 },
 "nbformat": 4,
 "nbformat_minor": 5
}
